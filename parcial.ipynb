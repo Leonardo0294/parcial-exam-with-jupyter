{
 "cells": [
  {
   "cell_type": "code",
   "execution_count": 12,
   "metadata": {},
   "outputs": [
    {
     "ename": "ModuleNotFoundError",
     "evalue": "No module named 'pandas'",
     "output_type": "error",
     "traceback": [
      "\u001b[1;31m---------------------------------------------------------------------------\u001b[0m",
      "\u001b[1;31mModuleNotFoundError\u001b[0m                       Traceback (most recent call last)",
      "Cell \u001b[1;32mIn[12], line 1\u001b[0m\n\u001b[1;32m----> 1\u001b[0m \u001b[38;5;28;01mimport\u001b[39;00m \u001b[38;5;21;01mpandas\u001b[39;00m \u001b[38;5;28;01mas\u001b[39;00m \u001b[38;5;21;01mpd\u001b[39;00m\n\u001b[0;32m      2\u001b[0m \u001b[38;5;28;01mfrom\u001b[39;00m \u001b[38;5;21;01mdatetime\u001b[39;00m \u001b[38;5;28;01mimport\u001b[39;00m date\n\u001b[0;32m      3\u001b[0m \u001b[38;5;28;01mimport\u001b[39;00m \u001b[38;5;21;01mmatplotlib\u001b[39;00m\u001b[38;5;21;01m.\u001b[39;00m\u001b[38;5;21;01mpyplot\u001b[39;00m \u001b[38;5;28;01mas\u001b[39;00m \u001b[38;5;21;01mplt\u001b[39;00m\n",
      "\u001b[1;31mModuleNotFoundError\u001b[0m: No module named 'pandas'"
     ]
    }
   ],
   "source": [
    "import pandas as pd\n",
    "from datetime import date\n",
    "import matplotlib.pyplot as plt"
   ]
  },
  {
   "cell_type": "code",
   "execution_count": null,
   "metadata": {},
   "outputs": [],
   "source": [
    "\n",
    "productos = [\n",
    "    {\"nombre\": \"Camiseta\", \"precio\": 20, \"cantidad_disponible\": 100},\n",
    "    {\"nombre\": \"Pantalón\", \"precio\": 30, \"cantidad_disponible\": 80},\n",
    "    {\"nombre\": \"Zapatos\", \"precio\": 50, \"cantidad_disponible\": 50},\n",
    "    {\"nombre\": \"Reloj\", \"precio\": 100, \"cantidad_disponible\": 30},\n",
    "    {\"nombre\": \"Gorra\", \"precio\": 15, \"cantidad_disponible\": 120},\n",
    "    {\"nombre\": \"Bufanda\", \"precio\": 25, \"cantidad_disponible\": 60},\n",
    "    {\"nombre\": \"Sudadera\", \"precio\": 40, \"cantidad_disponible\": 70},\n",
    "    {\"nombre\": \"Bolsa\", \"precio\": 35, \"cantidad_disponible\": 90},\n",
    "    {\"nombre\": \"Chaqueta\", \"precio\": 80, \"cantidad_disponible\": 40},\n",
    "    {\"nombre\": \"Gafas de sol\", \"precio\": 45, \"cantidad_disponible\": 25},\n",
    "    {\"nombre\": \"Calcetines\", \"precio\": 10, \"cantidad_disponible\": 150},\n",
    "    {\"nombre\": \"Sombrero\", \"precio\": 20, \"cantidad_disponible\": 55},\n",
    "    {\"nombre\": \"Pulsera\", \"precio\": 5, \"cantidad_disponible\": 200},\n",
    "    {\"nombre\": \"Pendientes\", \"precio\": 15, \"cantidad_disponible\": 180},\n",
    "    {\"nombre\": \"Cinturón\", \"precio\": 20, \"cantidad_disponible\": 100},\n",
    "    {\"nombre\": \"Vestido\", \"precio\": 60, \"cantidad_disponible\": 35},\n",
    "    {\"nombre\": \"Corbata\", \"precio\": 25, \"cantidad_disponible\": 75},\n",
    "    {\"nombre\": \"Bolso\", \"precio\": 70, \"cantidad_disponible\": 45},\n",
    "    {\"nombre\": \"Paraguas\", \"precio\": 30, \"cantidad_disponible\": 65},\n",
    "    {\"nombre\": \"Collar\", \"precio\": 40, \"cantidad_disponible\": 85},\n",
    "]\n",
    "# DataFrame de productos\n",
    "df_productos = pd.DataFrame(productos)\n"
   ]
  },
  {
   "cell_type": "code",
   "execution_count": null,
   "metadata": {},
   "outputs": [],
   "source": [
    "#valor total del inventario para cada producto\n",
    "df_productos['valor_total'] = df_productos['precio'] * df_productos['cantidad_disponible']\n"
   ]
  },
  {
   "cell_type": "code",
   "execution_count": null,
   "metadata": {},
   "outputs": [],
   "source": [
    "#valor total del inventario para cada producto\n",
    "print(\"Valor total del inventario por producto:\")\n",
    "print(df_productos[['nombre', 'valor_total']])\n"
   ]
  },
  {
   "cell_type": "code",
   "execution_count": null,
   "metadata": {},
   "outputs": [],
   "source": [
    "#ventas y actualizar la cantidad disponible\n",
    "ventas = [\n",
    "    {\"nombre\": \"Gorra\", \"cantidad_vendida\": 10},\n",
    "    {\"nombre\": \"Vestido\", \"cantidad_vendida\": 5},\n",
    "    {\"nombre\": \"Pantalón\", \"cantidad_vendida\": 15},\n",
    "    {\"nombre\": \"Bolsa\", \"cantidad_vendida\": 8},\n",
    "    {\"nombre\": \"Cinturon\", \"cantidad_vendida\": 50},\n",
    "    {\"nombre\": \"Vestido\", \"cantidad_vendida\": 30},\n",
    "    {\"nombre\": \"Corbata\", \"cantidad_vendida\": 60},\n",
    "    {\"nombre\": \"Collar\", \"cantidad_vendida\": 50},\n",
    "]\n",
    "\n",
    "\n",
    "for venta in ventas:\n",
    "    producto = venta['nombre']\n",
    "    cantidad_vendida = venta['cantidad_vendida']\n",
    "    # se actualiza la cantidad disponible después de la venta\n",
    "    df_productos.loc[df_productos['nombre'] == producto, 'cantidad_disponible'] -= cantidad_vendida\n",
    "\n",
    "#DataFrame actualizado\n",
    "df_productos[['nombre', 'cantidad_disponible']]\n",
    "\n"
   ]
  },
  {
   "cell_type": "code",
   "execution_count": null,
   "metadata": {},
   "outputs": [],
   "source": [
    "# se grafica la cantidad disponible de productos\n",
    "plt.figure(figsize=(10, 6))\n",
    "plt.bar(df_productos['nombre'], df_productos['cantidad_disponible'], color='skyblue')\n",
    "plt.xlabel('Nombre del Producto')\n",
    "plt.ylabel('Cantidad Disponible')\n",
    "plt.title('Cantidad Disponible de Productos')\n",
    "plt.xticks(rotation=45, ha='right')\n",
    "plt.show()\n"
   ]
  }
 ],
 "metadata": {
  "kernelspec": {
   "display_name": "env",
   "language": "python",
   "name": "python3"
  },
  "language_info": {
   "codemirror_mode": {
    "name": "ipython",
    "version": 3
   },
   "file_extension": ".py",
   "mimetype": "text/x-python",
   "name": "python",
   "nbconvert_exporter": "python",
   "pygments_lexer": "ipython3",
   "version": "3.12.2"
  }
 },
 "nbformat": 4,
 "nbformat_minor": 2
}
