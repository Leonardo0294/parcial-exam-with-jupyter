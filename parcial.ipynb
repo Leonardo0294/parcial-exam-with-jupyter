{
 "cells": [
  {
   "cell_type": "code",
   "execution_count": null,
   "metadata": {},
   "outputs": [],
   "source": [
    "import pandas as pd\n"
   ]
  },
  {
   "cell_type": "code",
   "execution_count": null,
   "metadata": {},
   "outputs": [],
   "source": [
    "# Definición de productos\n",
    "productos = [\n",
    "    {\"nombre\": \"Camiseta\", \"precio\": 20, \"cantidad_disponible\": 100},\n",
    "    {\"nombre\": \"Pantalón\", \"precio\": 30, \"cantidad_disponible\": 80},\n",
    "    {\"nombre\": \"Zapatos\", \"precio\": 50, \"cantidad_disponible\": 50},\n",
    "    # Otros productos...\n",
    "]\n",
    "\n",
    "# Crear DataFrame de productos\n",
    "df_productos = pd.DataFrame(productos)\n"
   ]
  },
  {
   "cell_type": "code",
   "execution_count": null,
   "metadata": {},
   "outputs": [],
   "source": [
    "# Calcular el valor total del inventario para cada producto\n",
    "df_productos['valor_total'] = df_productos['precio'] * df_productos['cantidad_disponible']\n"
   ]
  },
  {
   "cell_type": "code",
   "execution_count": null,
   "metadata": {},
   "outputs": [],
   "source": [
    "# Mostrar el valor total del inventario para cada producto\n",
    "print(\"Valor total del inventario por producto:\")\n",
    "print(df_productos[['nombre', 'valor_total']])\n"
   ]
  },
  {
   "cell_type": "code",
   "execution_count": null,
   "metadata": {},
   "outputs": [],
   "source": [
    "ventas = [\n",
    "    {\"nombre\": \"Gorra\", \"cantidad_vendida\": 10},\n",
    "    {\"nombre\": \"Vestido\", \"cantidad_vendida\": 5},\n",
    "    {\"nombre\": \"Pantalón\", \"cantidad_vendida\": 20},\n",
    "]\n",
    "\n",
    "for venta in ventas:\n",
    "    producto = venta['nombre']\n",
    "    cantidad_vendida = venta['cantidad_vendida']\n",
    "    # Actualizar la cantidad disponible después de la venta\n",
    "    df_productos.loc[df_productos['nombre'] == producto, 'cantidad_disponible'] -= cantidad_vendida\n",
    "\n",
    "print(\"\\nCantidad restante disponible de cada producto después de las ventas:\")\n",
    "print(df_productos[['nombre', 'cantidad_disponible']])\n"
   ]
  },
  {
   "cell_type": "code",
   "execution_count": null,
   "metadata": {},
   "outputs": [],
   "source": [
    "df_cantidad_disponible = df_productos[['nombre', 'cantidad_disponible']]\n",
    "print(\"\\nDataFrame con nombres de productos y cantidad disponible:\")\n",
    "print(df_cantidad_disponible)\n"
   ]
  }
 ],
 "metadata": {
  "language_info": {
   "name": "python"
  }
 },
 "nbformat": 4,
 "nbformat_minor": 2
}
